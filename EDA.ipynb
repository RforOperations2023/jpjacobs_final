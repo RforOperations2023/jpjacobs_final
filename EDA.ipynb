{
 "cells": [
  {
   "cell_type": "markdown",
   "id": "7048cf1c",
   "metadata": {},
   "source": [
    "# Exploratory Data Analysis\n",
    "I'm a bit more comfortable exploring datasets in Python, so this is my work area for making sure my I/O and data transformations are working properly."
   ]
  },
  {
   "cell_type": "code",
   "execution_count": 1,
   "id": "2c897e94",
   "metadata": {},
   "outputs": [],
   "source": [
    "# Import libraries\n",
    "import numpy as np\n",
    "import pandas as pd\n",
    "import requests\n",
    "import json\n",
    "import yaml"
   ]
  },
  {
   "cell_type": "markdown",
   "id": "641aae38",
   "metadata": {},
   "source": [
    "### Loading data from API"
   ]
  },
  {
   "cell_type": "code",
   "execution_count": 17,
   "id": "9e77fa5b",
   "metadata": {},
   "outputs": [
    {
     "name": "stdout",
     "output_type": "stream",
     "text": [
      "200\n"
     ]
    }
   ],
   "source": [
    "# Test connection\n",
    "with open('leaflet_dash/auth.yaml') as auth:\n",
    "    token = yaml.safe_load(auth)['app_token']\n",
    "\n",
    "url = f'https://data.cityofchicago.org/resource/kc9i-wq85.geojson?$$app_token={token}&$limit=999999'\n",
    "r = requests.get(url)\n",
    "print(r.status_code)"
   ]
  },
  {
   "cell_type": "code",
   "execution_count": 18,
   "id": "1b74edf3",
   "metadata": {},
   "outputs": [
    {
     "data": {
      "text/plain": [
       "dict_keys(['type', 'features', 'crs'])"
      ]
     },
     "execution_count": 18,
     "metadata": {},
     "output_type": "execute_result"
    }
   ],
   "source": [
    "jd = json.JSONDecoder()\n",
    "load = jd.decode(r.text)\n",
    "load.keys()"
   ]
  },
  {
   "cell_type": "code",
   "execution_count": 19,
   "id": "ef1a71b6",
   "metadata": {},
   "outputs": [
    {
     "data": {
      "text/plain": [
       "4978"
      ]
     },
     "execution_count": 19,
     "metadata": {},
     "output_type": "execute_result"
    }
   ],
   "source": [
    "len(load['features'])"
   ]
  },
  {
   "cell_type": "code",
   "execution_count": 22,
   "id": "b0ad6a0b",
   "metadata": {},
   "outputs": [
    {
     "data": {
      "text/plain": [
       "list"
      ]
     },
     "execution_count": 22,
     "metadata": {},
     "output_type": "execute_result"
    }
   ],
   "source": [
    "type(load['features'])"
   ]
  },
  {
   "cell_type": "code",
   "execution_count": 25,
   "id": "b15c1c8c",
   "metadata": {},
   "outputs": [
    {
     "data": {
      "text/plain": [
       "{'type': 'Feature',\n",
       " 'geometry': {'type': 'Point',\n",
       "  'coordinates': [-87.62766855145455, 41.72433163710899]},\n",
       " 'properties': {'issued_date': '2011-03-07T00:00:00.000',\n",
       "  'disposition_description': 'City Non suit - Motion to set-aside default - Granted',\n",
       "  'latitude': '41.72433163710899',\n",
       "  'total_administrative_costs': '0',\n",
       "  'entity_or_person_s_': 'JP MORGAN CHASE, ',\n",
       "  'total_paid': '0',\n",
       "  'last_hearing_date': '2011-08-05T11:00:00.000',\n",
       "  'total_fines': '0',\n",
       "  'current_amount_due': '0',\n",
       "  'longitude': '-87.62766855145455',\n",
       "  'docket_number': '11CP015666',\n",
       "  'original_total_amount_due': '0',\n",
       "  'collection_costs_or_attorney_fees': '0',\n",
       "  'property_address': '9332 S LASALLE ',\n",
       "  'court_cost': '0',\n",
       "  'issuing_department': 'POLICE',\n",
       "  'violation_type': '13-12-125  Duty to secure and maintain vacant building.|13-12-140  Watchman required',\n",
       "  'violation_number': 'P002161520|P002161521',\n",
       "  'interest_amount': '0'}}"
      ]
     },
     "execution_count": 25,
     "metadata": {},
     "output_type": "execute_result"
    }
   ],
   "source": [
    "load['features'][0]"
   ]
  },
  {
   "cell_type": "code",
   "execution_count": 33,
   "id": "4503c6cf",
   "metadata": {},
   "outputs": [
    {
     "name": "stdout",
     "output_type": "stream",
     "text": [
      "<class 'pandas.core.frame.DataFrame'>\n",
      "RangeIndex: 4978 entries, 0 to 4977\n",
      "Data columns (total 25 columns):\n",
      " #   Column                             Non-Null Count  Dtype  \n",
      "---  ------                             --------------  -----  \n",
      " 0   docket_number                      4978 non-null   object \n",
      " 1   violation_number                   4978 non-null   object \n",
      " 2   issued_date                        4978 non-null   object \n",
      " 3   issuing_department                 4978 non-null   object \n",
      " 4   last_hearing_date                  4978 non-null   object \n",
      " 5   property_address                   4978 non-null   object \n",
      " 6   violation_type                     4978 non-null   object \n",
      " 7   entity_or_person_s_                4978 non-null   object \n",
      " 8   disposition_description            4978 non-null   object \n",
      " 9   total_fines                        4978 non-null   int64  \n",
      " 10  total_administrative_costs         4978 non-null   int64  \n",
      " 11  interest_amount                    4978 non-null   float64\n",
      " 12  collection_costs_or_attorney_fees  4978 non-null   float64\n",
      " 13  court_cost                         4978 non-null   float64\n",
      " 14  original_total_amount_due          4978 non-null   float64\n",
      " 15  total_paid                         4978 non-null   float64\n",
      " 16  current_amount_due                 4978 non-null   float64\n",
      " 17  latitude                           4689 non-null   float64\n",
      " 18  longitude                          4689 non-null   float64\n",
      " 19  location                           4689 non-null   object \n",
      " 20  :@computed_region_rpca_8um6        4689 non-null   float64\n",
      " 21  :@computed_region_vrxf_vc4k        4689 non-null   float64\n",
      " 22  :@computed_region_6mkv_f3dw        4689 non-null   float64\n",
      " 23  :@computed_region_bdys_3d7i        4689 non-null   float64\n",
      " 24  :@computed_region_43wa_7qmu        4689 non-null   float64\n",
      "dtypes: float64(13), int64(2), object(10)\n",
      "memory usage: 972.4+ KB\n"
     ]
    }
   ],
   "source": [
    "df_url = f'https://data.cityofchicago.org/resource/kc9i-wq85.json?$$app_token={token}&$limit=999999'\n",
    "pd.read_json(df_url).info()"
   ]
  },
  {
   "cell_type": "code",
   "execution_count": 36,
   "id": "94e0dd8e",
   "metadata": {},
   "outputs": [
    {
     "data": {
      "text/html": [
       "<div>\n",
       "<style scoped>\n",
       "    .dataframe tbody tr th:only-of-type {\n",
       "        vertical-align: middle;\n",
       "    }\n",
       "\n",
       "    .dataframe tbody tr th {\n",
       "        vertical-align: top;\n",
       "    }\n",
       "\n",
       "    .dataframe thead th {\n",
       "        text-align: right;\n",
       "    }\n",
       "</style>\n",
       "<table border=\"1\" class=\"dataframe\">\n",
       "  <thead>\n",
       "    <tr style=\"text-align: right;\">\n",
       "      <th></th>\n",
       "      <th>docket_number</th>\n",
       "      <th>violation_number</th>\n",
       "      <th>issued_date</th>\n",
       "      <th>issuing_department</th>\n",
       "      <th>last_hearing_date</th>\n",
       "      <th>property_address</th>\n",
       "      <th>violation_type</th>\n",
       "      <th>entity_or_person_s_</th>\n",
       "      <th>disposition_description</th>\n",
       "      <th>total_fines</th>\n",
       "      <th>total_administrative_costs</th>\n",
       "      <th>interest_amount</th>\n",
       "      <th>collection_costs_or_attorney_fees</th>\n",
       "      <th>court_cost</th>\n",
       "      <th>original_total_amount_due</th>\n",
       "      <th>total_paid</th>\n",
       "      <th>current_amount_due</th>\n",
       "      <th>latitude</th>\n",
       "      <th>longitude</th>\n",
       "    </tr>\n",
       "  </thead>\n",
       "  <tbody>\n",
       "    <tr>\n",
       "      <th>0</th>\n",
       "      <td>11CP015666</td>\n",
       "      <td>P002161520|P002161521</td>\n",
       "      <td>2011-03-07T00:00:00.000</td>\n",
       "      <td>POLICE</td>\n",
       "      <td>2011-08-05T11:00:00.000</td>\n",
       "      <td>9332 S LASALLE</td>\n",
       "      <td>13-12-125  Duty to secure and maintain vacant ...</td>\n",
       "      <td>JP MORGAN CHASE,</td>\n",
       "      <td>City Non suit - Motion to set-aside default - ...</td>\n",
       "      <td>0</td>\n",
       "      <td>0</td>\n",
       "      <td>0.00</td>\n",
       "      <td>0.00</td>\n",
       "      <td>0.00</td>\n",
       "      <td>0.00</td>\n",
       "      <td>0.0</td>\n",
       "      <td>0.0</td>\n",
       "      <td>41.724332</td>\n",
       "      <td>-87.627669</td>\n",
       "    </tr>\n",
       "    <tr>\n",
       "      <th>1</th>\n",
       "      <td>11CP020396</td>\n",
       "      <td>P002513827</td>\n",
       "      <td>2011-05-04T00:00:00.000</td>\n",
       "      <td>POLICE</td>\n",
       "      <td>2011-07-01T14:30:00.000</td>\n",
       "      <td>2107 N SAWYER</td>\n",
       "      <td>13-12-140  Watchman required</td>\n",
       "      <td>DEUTSCHE BANK,</td>\n",
       "      <td>Liable - By plea</td>\n",
       "      <td>100</td>\n",
       "      <td>0</td>\n",
       "      <td>0.00</td>\n",
       "      <td>0.00</td>\n",
       "      <td>0.00</td>\n",
       "      <td>140.00</td>\n",
       "      <td>280.0</td>\n",
       "      <td>-140.0</td>\n",
       "      <td>41.919469</td>\n",
       "      <td>-87.708844</td>\n",
       "    </tr>\n",
       "    <tr>\n",
       "      <th>2</th>\n",
       "      <td>11CP024049</td>\n",
       "      <td>P002165386|P002165387</td>\n",
       "      <td>2011-05-03T00:00:00.000</td>\n",
       "      <td>POLICE</td>\n",
       "      <td>2011-07-01T14:00:00.000</td>\n",
       "      <td>12863 S NORMAL</td>\n",
       "      <td>13-12-125  Duty to secure and maintain vacant ...</td>\n",
       "      <td>WELLS FARGO BANK NA,</td>\n",
       "      <td>City non-suit</td>\n",
       "      <td>0</td>\n",
       "      <td>0</td>\n",
       "      <td>0.00</td>\n",
       "      <td>0.00</td>\n",
       "      <td>0.00</td>\n",
       "      <td>0.00</td>\n",
       "      <td>0.0</td>\n",
       "      <td>0.0</td>\n",
       "      <td>41.659662</td>\n",
       "      <td>-87.633937</td>\n",
       "    </tr>\n",
       "    <tr>\n",
       "      <th>3</th>\n",
       "      <td>11CP026554</td>\n",
       "      <td>P002109256</td>\n",
       "      <td>2011-05-27T00:00:00.000</td>\n",
       "      <td>POLICE</td>\n",
       "      <td>2011-07-01T09:00:00.000</td>\n",
       "      <td>5700 S ABERDEEN</td>\n",
       "      <td>13-12-140  Watchman required</td>\n",
       "      <td>OCWEN LOAN SERVICING LLC,</td>\n",
       "      <td>Not liable - City failed to meet burden of proof</td>\n",
       "      <td>800</td>\n",
       "      <td>0</td>\n",
       "      <td>27.96</td>\n",
       "      <td>236.88</td>\n",
       "      <td>26.09</td>\n",
       "      <td>1130.93</td>\n",
       "      <td>1125.0</td>\n",
       "      <td>0.0</td>\n",
       "      <td>41.790474</td>\n",
       "      <td>-87.652497</td>\n",
       "    </tr>\n",
       "    <tr>\n",
       "      <th>4</th>\n",
       "      <td>11CP054441</td>\n",
       "      <td>P003018262|P003018263|P003018264</td>\n",
       "      <td>2011-08-25T00:00:00.000</td>\n",
       "      <td>POLICE</td>\n",
       "      <td>2011-10-07T09:00:00.000</td>\n",
       "      <td>5035 S RACINE</td>\n",
       "      <td>13-12-140  Watchman required|13-12-140  Watchm...</td>\n",
       "      <td>WELLS FARGO,</td>\n",
       "      <td>City non-suit</td>\n",
       "      <td>0</td>\n",
       "      <td>0</td>\n",
       "      <td>0.00</td>\n",
       "      <td>0.00</td>\n",
       "      <td>0.00</td>\n",
       "      <td>0.00</td>\n",
       "      <td>0.0</td>\n",
       "      <td>0.0</td>\n",
       "      <td>41.802223</td>\n",
       "      <td>-87.654932</td>\n",
       "    </tr>\n",
       "  </tbody>\n",
       "</table>\n",
       "</div>"
      ],
      "text/plain": [
       "  docket_number                  violation_number              issued_date  \\\n",
       "0    11CP015666             P002161520|P002161521  2011-03-07T00:00:00.000   \n",
       "1    11CP020396                        P002513827  2011-05-04T00:00:00.000   \n",
       "2    11CP024049             P002165386|P002165387  2011-05-03T00:00:00.000   \n",
       "3    11CP026554                        P002109256  2011-05-27T00:00:00.000   \n",
       "4    11CP054441  P003018262|P003018263|P003018264  2011-08-25T00:00:00.000   \n",
       "\n",
       "  issuing_department        last_hearing_date  property_address  \\\n",
       "0             POLICE  2011-08-05T11:00:00.000   9332 S LASALLE    \n",
       "1             POLICE  2011-07-01T14:30:00.000    2107 N SAWYER    \n",
       "2             POLICE  2011-07-01T14:00:00.000   12863 S NORMAL    \n",
       "3             POLICE  2011-07-01T09:00:00.000  5700 S ABERDEEN    \n",
       "4             POLICE  2011-10-07T09:00:00.000    5035 S RACINE    \n",
       "\n",
       "                                      violation_type  \\\n",
       "0  13-12-125  Duty to secure and maintain vacant ...   \n",
       "1                       13-12-140  Watchman required   \n",
       "2  13-12-125  Duty to secure and maintain vacant ...   \n",
       "3                       13-12-140  Watchman required   \n",
       "4  13-12-140  Watchman required|13-12-140  Watchm...   \n",
       "\n",
       "          entity_or_person_s_  \\\n",
       "0           JP MORGAN CHASE,    \n",
       "1             DEUTSCHE BANK,    \n",
       "2       WELLS FARGO BANK NA,    \n",
       "3  OCWEN LOAN SERVICING LLC,    \n",
       "4               WELLS FARGO,    \n",
       "\n",
       "                             disposition_description  total_fines  \\\n",
       "0  City Non suit - Motion to set-aside default - ...            0   \n",
       "1                                   Liable - By plea          100   \n",
       "2                                      City non-suit            0   \n",
       "3   Not liable - City failed to meet burden of proof          800   \n",
       "4                                      City non-suit            0   \n",
       "\n",
       "   total_administrative_costs  interest_amount  \\\n",
       "0                           0             0.00   \n",
       "1                           0             0.00   \n",
       "2                           0             0.00   \n",
       "3                           0            27.96   \n",
       "4                           0             0.00   \n",
       "\n",
       "   collection_costs_or_attorney_fees  court_cost  original_total_amount_due  \\\n",
       "0                               0.00        0.00                       0.00   \n",
       "1                               0.00        0.00                     140.00   \n",
       "2                               0.00        0.00                       0.00   \n",
       "3                             236.88       26.09                    1130.93   \n",
       "4                               0.00        0.00                       0.00   \n",
       "\n",
       "   total_paid  current_amount_due   latitude  longitude  \n",
       "0         0.0                 0.0  41.724332 -87.627669  \n",
       "1       280.0              -140.0  41.919469 -87.708844  \n",
       "2         0.0                 0.0  41.659662 -87.633937  \n",
       "3      1125.0                 0.0  41.790474 -87.652497  \n",
       "4         0.0                 0.0  41.802223 -87.654932  "
      ]
     },
     "execution_count": 36,
     "metadata": {},
     "output_type": "execute_result"
    }
   ],
   "source": [
    "chi_vacant_abandoned = pd.read_json(df_url).iloc[:,:19]\n",
    "chi_vacant_abandoned.head()"
   ]
  },
  {
   "cell_type": "markdown",
   "id": "cf0de210",
   "metadata": {},
   "source": [
    "## Exploring data\n",
    "### Violation types"
   ]
  },
  {
   "cell_type": "code",
   "execution_count": 37,
   "id": "c12b4162",
   "metadata": {},
   "outputs": [
    {
     "data": {
      "text/plain": [
       "44"
      ]
     },
     "execution_count": 37,
     "metadata": {},
     "output_type": "execute_result"
    }
   ],
   "source": [
    "# How many types of violations are there?\n",
    "chi_vacant_abandoned.violation_type.nunique()"
   ]
  },
  {
   "cell_type": "markdown",
   "id": "58c961e8",
   "metadata": {},
   "source": [
    "I think this is too many distinct types to be a useful dashboard filter. But I'll include it in the tooltip, I guess."
   ]
  },
  {
   "cell_type": "markdown",
   "id": "754685f3",
   "metadata": {},
   "source": [
    "### Dispositions"
   ]
  },
  {
   "cell_type": "code",
   "execution_count": 38,
   "id": "00d99428",
   "metadata": {},
   "outputs": [
    {
     "data": {
      "text/plain": [
       "15"
      ]
     },
     "execution_count": 38,
     "metadata": {},
     "output_type": "execute_result"
    }
   ],
   "source": [
    "# How many unique disposition descriptions are there?\n",
    "chi_vacant_abandoned.disposition_description.nunique()"
   ]
  },
  {
   "cell_type": "code",
   "execution_count": 39,
   "id": "e602a4c5",
   "metadata": {},
   "outputs": [
    {
     "data": {
      "text/plain": [
       "array(['City Non suit - Motion to set-aside default - Granted',\n",
       "       'Liable - By plea', 'City non-suit',\n",
       "       'Not liable - City failed to meet burden of proof',\n",
       "       'Not liable - City failed to establish prima facie case',\n",
       "       'Default - Liable by prove-up',\n",
       "       'Dismissed for want of prosecution - No service',\n",
       "       'Vendor scanning error',\n",
       "       'Liable - By Plea - Motion to set-aside default granted',\n",
       "       'Not liable - Respondent came into compliance with building code prior to hearing',\n",
       "       'Not liable - City failed to establish Prima Facie case - Motion to set-aside default granted',\n",
       "       'Liable - By contested finding',\n",
       "       'Dismissed for want of prosecution - No service - Motion to set-aside default - Granted',\n",
       "       'Denied - Motion to set aside denied - Prior default order still stands',\n",
       "       'Denied - Motion to set-aside default - lack of good cause'],\n",
       "      dtype=object)"
      ]
     },
     "execution_count": 39,
     "metadata": {},
     "output_type": "execute_result"
    }
   ],
   "source": [
    "# What are the unique disposition descriptions?\n",
    "chi_vacant_abandoned.disposition_description.unique()"
   ]
  },
  {
   "cell_type": "code",
   "execution_count": 51,
   "id": "e2431df6",
   "metadata": {},
   "outputs": [
    {
     "data": {
      "text/plain": [
       "'City Non suit'"
      ]
     },
     "execution_count": 51,
     "metadata": {},
     "output_type": "execute_result"
    }
   ],
   "source": [
    "# Splitting disposition descriptions into their header\n",
    "chi_vacant_abandoned.disposition_description[0].split(' - ')[0]"
   ]
  },
  {
   "cell_type": "code",
   "execution_count": 52,
   "id": "715534cc",
   "metadata": {},
   "outputs": [],
   "source": [
    "# Create disposition header column by applying above function\n",
    "chi_vacant_abandoned.loc[:,'disposition_header'] = \\\n",
    "    chi_vacant_abandoned.loc[:,'disposition_description'].apply(lambda x: x.split(' - ')[0])"
   ]
  },
  {
   "cell_type": "code",
   "execution_count": 54,
   "id": "f8829075",
   "metadata": {},
   "outputs": [
    {
     "data": {
      "text/plain": [
       "8"
      ]
     },
     "execution_count": 54,
     "metadata": {},
     "output_type": "execute_result"
    }
   ],
   "source": [
    "# How many disposition headers is that?\n",
    "chi_vacant_abandoned.disposition_header.nunique()"
   ]
  },
  {
   "cell_type": "code",
   "execution_count": 55,
   "id": "8bb89ace",
   "metadata": {
    "scrolled": true
   },
   "outputs": [
    {
     "data": {
      "text/plain": [
       "City non-suit                        3997\n",
       "Default                               596\n",
       "City Non suit                         146\n",
       "Liable                                138\n",
       "Not liable                             68\n",
       "Dismissed for want of prosecution      27\n",
       "Vendor scanning error                   4\n",
       "Denied                                  2\n",
       "Name: disposition_header, dtype: int64"
      ]
     },
     "execution_count": 55,
     "metadata": {},
     "output_type": "execute_result"
    }
   ],
   "source": [
    "# How common is each disposition header?\n",
    "chi_vacant_abandoned.disposition_header.value_counts()"
   ]
  },
  {
   "cell_type": "markdown",
   "id": "b86ab409",
   "metadata": {},
   "source": [
    "You know what, I don't think any of this is too important for filtering. I'll leave the full disposition for the tooltip."
   ]
  },
  {
   "cell_type": "markdown",
   "id": "568d9434",
   "metadata": {},
   "source": [
    "### Issuing departments"
   ]
  },
  {
   "cell_type": "code",
   "execution_count": 59,
   "id": "be2d9dc8",
   "metadata": {},
   "outputs": [
    {
     "data": {
      "text/plain": [
       "POLICE     4961\n",
       "BLDINGS      17\n",
       "Name: issuing_department, dtype: int64"
      ]
     },
     "execution_count": 59,
     "metadata": {},
     "output_type": "execute_result"
    }
   ],
   "source": [
    "# What are the issuing departments??\n",
    "chi_vacant_abandoned.issuing_department.value_counts()"
   ]
  },
  {
   "cell_type": "markdown",
   "id": "292c5d7d",
   "metadata": {},
   "source": [
    "Tooltip."
   ]
  },
  {
   "cell_type": "markdown",
   "id": "f6cd397e",
   "metadata": {},
   "source": [
    "### Entity or person"
   ]
  },
  {
   "cell_type": "code",
   "execution_count": 62,
   "id": "f058a61c",
   "metadata": {},
   "outputs": [
    {
     "data": {
      "text/plain": [
       "270"
      ]
     },
     "execution_count": 62,
     "metadata": {},
     "output_type": "execute_result"
    }
   ],
   "source": [
    "chi_vacant_abandoned.entity_or_person_s_.nunique()"
   ]
  },
  {
   "cell_type": "markdown",
   "id": "129c0164",
   "metadata": {},
   "source": [
    "I think that's _way_ too many to be useful as a filter."
   ]
  },
  {
   "cell_type": "markdown",
   "id": "5564be6a",
   "metadata": {},
   "source": [
    "### Amount due"
   ]
  },
  {
   "cell_type": "code",
   "execution_count": 60,
   "id": "cf26c8da",
   "metadata": {},
   "outputs": [
    {
     "data": {
      "text/plain": [
       "count     4978.000000\n",
       "mean       145.077045\n",
       "std        941.637275\n",
       "min      -4636.800000\n",
       "25%          0.000000\n",
       "50%          0.000000\n",
       "75%          0.000000\n",
       "max      13220.960000\n",
       "Name: current_amount_due, dtype: float64"
      ]
     },
     "execution_count": 60,
     "metadata": {},
     "output_type": "execute_result"
    }
   ],
   "source": [
    "# What do the original and current amount due fields look like?\n",
    "chi_vacant_abandoned.current_amount_due.describe()"
   ]
  },
  {
   "cell_type": "code",
   "execution_count": 61,
   "id": "c46b6490",
   "metadata": {},
   "outputs": [
    {
     "data": {
      "text/plain": [
       "count     4978.000000\n",
       "mean       560.592676\n",
       "std       1492.890630\n",
       "min          0.000000\n",
       "25%          0.000000\n",
       "50%          0.000000\n",
       "75%          0.000000\n",
       "max      13353.440000\n",
       "Name: original_total_amount_due, dtype: float64"
      ]
     },
     "execution_count": 61,
     "metadata": {},
     "output_type": "execute_result"
    }
   ],
   "source": [
    "chi_vacant_abandoned.original_total_amount_due.describe()"
   ]
  },
  {
   "cell_type": "markdown",
   "id": "ab572e83",
   "metadata": {},
   "source": [
    "## Practical data questions"
   ]
  },
  {
   "cell_type": "code",
   "execution_count": 63,
   "id": "75e91c18",
   "metadata": {},
   "outputs": [
    {
     "data": {
      "text/plain": [
       "'2001-01-01T00:00:00.000'"
      ]
     },
     "execution_count": 63,
     "metadata": {},
     "output_type": "execute_result"
    }
   ],
   "source": [
    "# What's the minimum issued date?\n",
    "chi_vacant_abandoned.issued_date.min()"
   ]
  },
  {
   "cell_type": "code",
   "execution_count": 64,
   "id": "2d9fd8f5",
   "metadata": {},
   "outputs": [
    {
     "data": {
      "text/html": [
       "<div>\n",
       "<style scoped>\n",
       "    .dataframe tbody tr th:only-of-type {\n",
       "        vertical-align: middle;\n",
       "    }\n",
       "\n",
       "    .dataframe tbody tr th {\n",
       "        vertical-align: top;\n",
       "    }\n",
       "\n",
       "    .dataframe thead th {\n",
       "        text-align: right;\n",
       "    }\n",
       "</style>\n",
       "<table border=\"1\" class=\"dataframe\">\n",
       "  <thead>\n",
       "    <tr style=\"text-align: right;\">\n",
       "      <th></th>\n",
       "      <th>entity_or_person_s_</th>\n",
       "      <th>current_amount_due</th>\n",
       "    </tr>\n",
       "  </thead>\n",
       "  <tbody>\n",
       "    <tr>\n",
       "      <th>45</th>\n",
       "      <td>CHASE REO GROUP LLC,</td>\n",
       "      <td>145700.00</td>\n",
       "    </tr>\n",
       "    <tr>\n",
       "      <th>205</th>\n",
       "      <td>REO PARTNERS LLC,</td>\n",
       "      <td>121771.40</td>\n",
       "    </tr>\n",
       "    <tr>\n",
       "      <th>183</th>\n",
       "      <td>NATIONWIDE REO LLC,</td>\n",
       "      <td>89493.75</td>\n",
       "    </tr>\n",
       "    <tr>\n",
       "      <th>102</th>\n",
       "      <td>FEDERAL NATL MTG ASSN,</td>\n",
       "      <td>70255.19</td>\n",
       "    </tr>\n",
       "    <tr>\n",
       "      <th>203</th>\n",
       "      <td>REO DIRECT LLC,</td>\n",
       "      <td>52373.09</td>\n",
       "    </tr>\n",
       "    <tr>\n",
       "      <th>44</th>\n",
       "      <td>CHASE REO GROUP LLC C/O ANTWAN REID,</td>\n",
       "      <td>40000.00</td>\n",
       "    </tr>\n",
       "    <tr>\n",
       "      <th>177</th>\n",
       "      <td>NATIONAL ASSET MANAGEMENT GROUP LLC,</td>\n",
       "      <td>35303.24</td>\n",
       "    </tr>\n",
       "    <tr>\n",
       "      <th>153</th>\n",
       "      <td>JNL FINANCIAL LLC,</td>\n",
       "      <td>28937.96</td>\n",
       "    </tr>\n",
       "    <tr>\n",
       "      <th>154</th>\n",
       "      <td>JNL FINANCIAL,</td>\n",
       "      <td>20221.18</td>\n",
       "    </tr>\n",
       "    <tr>\n",
       "      <th>192</th>\n",
       "      <td>ONE WEST BANK FSB,</td>\n",
       "      <td>19238.51</td>\n",
       "    </tr>\n",
       "  </tbody>\n",
       "</table>\n",
       "</div>"
      ],
      "text/plain": [
       "                       entity_or_person_s_  current_amount_due\n",
       "45                   CHASE REO GROUP LLC,            145700.00\n",
       "205                     REO PARTNERS LLC,            121771.40\n",
       "183                   NATIONWIDE REO LLC,             89493.75\n",
       "102                FEDERAL NATL MTG ASSN,             70255.19\n",
       "203                       REO DIRECT LLC,             52373.09\n",
       "44   CHASE REO GROUP LLC C/O ANTWAN REID,             40000.00\n",
       "177  NATIONAL ASSET MANAGEMENT GROUP LLC,             35303.24\n",
       "153                    JNL FINANCIAL LLC,             28937.96\n",
       "154                        JNL FINANCIAL,             20221.18\n",
       "192                    ONE WEST BANK FSB,             19238.51"
      ]
     },
     "execution_count": 64,
     "metadata": {},
     "output_type": "execute_result"
    }
   ],
   "source": [
    "# Who are the entities with the highest outstanding fine balance?\n",
    "chi_vacant_abandoned[[\n",
    "    'entity_or_person_s_','current_amount_due'\n",
    "]].groupby('entity_or_person_s_', as_index=False).sum().sort_values('current_amount_due', ascending=False).head(10)"
   ]
  },
  {
   "cell_type": "code",
   "execution_count": 71,
   "id": "68ff4b44",
   "metadata": {},
   "outputs": [
    {
     "data": {
      "text/html": [
       "<div>\n",
       "<style scoped>\n",
       "    .dataframe tbody tr th:only-of-type {\n",
       "        vertical-align: middle;\n",
       "    }\n",
       "\n",
       "    .dataframe tbody tr th {\n",
       "        vertical-align: top;\n",
       "    }\n",
       "\n",
       "    .dataframe thead th {\n",
       "        text-align: right;\n",
       "    }\n",
       "</style>\n",
       "<table border=\"1\" class=\"dataframe\">\n",
       "  <thead>\n",
       "    <tr style=\"text-align: right;\">\n",
       "      <th></th>\n",
       "      <th>docket_number</th>\n",
       "      <th>violation_number</th>\n",
       "      <th>issued_date</th>\n",
       "      <th>issuing_department</th>\n",
       "      <th>last_hearing_date</th>\n",
       "      <th>property_address</th>\n",
       "      <th>violation_type</th>\n",
       "      <th>entity_or_person_s_</th>\n",
       "      <th>disposition_description</th>\n",
       "      <th>total_fines</th>\n",
       "      <th>total_administrative_costs</th>\n",
       "      <th>interest_amount</th>\n",
       "      <th>collection_costs_or_attorney_fees</th>\n",
       "      <th>court_cost</th>\n",
       "      <th>original_total_amount_due</th>\n",
       "      <th>total_paid</th>\n",
       "      <th>current_amount_due</th>\n",
       "      <th>latitude</th>\n",
       "      <th>longitude</th>\n",
       "      <th>disposition_header</th>\n",
       "    </tr>\n",
       "  </thead>\n",
       "  <tbody>\n",
       "    <tr>\n",
       "      <th>19</th>\n",
       "      <td>12CP058877</td>\n",
       "      <td>P003180744|P003180745</td>\n",
       "      <td>2012-07-30T00:00:00.000</td>\n",
       "      <td>POLICE</td>\n",
       "      <td>2012-09-07T13:00:00.000</td>\n",
       "      <td>3719 W OHIO</td>\n",
       "      <td>13-12-125  Duty to secure and maintain vacant ...</td>\n",
       "      <td>BANK OF AMERICA,</td>\n",
       "      <td>City non-suit</td>\n",
       "      <td>0</td>\n",
       "      <td>0</td>\n",
       "      <td>0.00</td>\n",
       "      <td>0.0</td>\n",
       "      <td>0.0</td>\n",
       "      <td>0.00</td>\n",
       "      <td>0.00</td>\n",
       "      <td>0.0</td>\n",
       "      <td>41.891642</td>\n",
       "      <td>-87.719529</td>\n",
       "      <td>City non-suit</td>\n",
       "    </tr>\n",
       "    <tr>\n",
       "      <th>25</th>\n",
       "      <td>13CP009146</td>\n",
       "      <td>P003766968|P003766969</td>\n",
       "      <td>2013-02-01T00:00:00.000</td>\n",
       "      <td>POLICE</td>\n",
       "      <td>2013-03-01T13:00:00.000</td>\n",
       "      <td>4216 W ADAMS</td>\n",
       "      <td>13-12-125  Duty to secure and maintain vacant ...</td>\n",
       "      <td>BANK OF AMERICA,</td>\n",
       "      <td>City non-suit</td>\n",
       "      <td>0</td>\n",
       "      <td>0</td>\n",
       "      <td>0.00</td>\n",
       "      <td>0.0</td>\n",
       "      <td>0.0</td>\n",
       "      <td>0.00</td>\n",
       "      <td>0.00</td>\n",
       "      <td>0.0</td>\n",
       "      <td>41.878019</td>\n",
       "      <td>-87.731215</td>\n",
       "      <td>City non-suit</td>\n",
       "    </tr>\n",
       "    <tr>\n",
       "      <th>50</th>\n",
       "      <td>14CP125031</td>\n",
       "      <td>P003839420</td>\n",
       "      <td>2014-09-13T00:00:00.000</td>\n",
       "      <td>POLICE</td>\n",
       "      <td>2014-11-05T09:00:00.000</td>\n",
       "      <td>201 S STATE</td>\n",
       "      <td>7-24-099(a)     Cannabis - up to 15 grams</td>\n",
       "      <td>BANK OF AMERICA,</td>\n",
       "      <td>Vendor scanning error</td>\n",
       "      <td>0</td>\n",
       "      <td>0</td>\n",
       "      <td>0.00</td>\n",
       "      <td>0.0</td>\n",
       "      <td>0.0</td>\n",
       "      <td>0.00</td>\n",
       "      <td>0.00</td>\n",
       "      <td>0.0</td>\n",
       "      <td>41.879431</td>\n",
       "      <td>-87.627563</td>\n",
       "      <td>Vendor scanning error</td>\n",
       "    </tr>\n",
       "    <tr>\n",
       "      <th>58</th>\n",
       "      <td>15CP080441</td>\n",
       "      <td>P004806688|P004806689</td>\n",
       "      <td>2015-05-08T00:00:00.000</td>\n",
       "      <td>POLICE</td>\n",
       "      <td>2015-08-07T11:00:00.000</td>\n",
       "      <td>31 W 110TH</td>\n",
       "      <td>13-12-125  Duty to secure and maintain vacant ...</td>\n",
       "      <td>BANK OF AMERICA,</td>\n",
       "      <td>City non-suit</td>\n",
       "      <td>0</td>\n",
       "      <td>0</td>\n",
       "      <td>0.00</td>\n",
       "      <td>0.0</td>\n",
       "      <td>0.0</td>\n",
       "      <td>0.00</td>\n",
       "      <td>0.00</td>\n",
       "      <td>0.0</td>\n",
       "      <td>NaN</td>\n",
       "      <td>NaN</td>\n",
       "      <td>City non-suit</td>\n",
       "    </tr>\n",
       "    <tr>\n",
       "      <th>60</th>\n",
       "      <td>15CP114089</td>\n",
       "      <td>P003124666|P003124667</td>\n",
       "      <td>2015-08-11T00:00:00.000</td>\n",
       "      <td>POLICE</td>\n",
       "      <td>2015-10-02T09:00:00.000</td>\n",
       "      <td>540 W GARFIELD</td>\n",
       "      <td>13-12-125  Duty to secure and maintain vacant ...</td>\n",
       "      <td>BANK OF AMERICA,</td>\n",
       "      <td>City non-suit</td>\n",
       "      <td>1400</td>\n",
       "      <td>0</td>\n",
       "      <td>2.13</td>\n",
       "      <td>0.0</td>\n",
       "      <td>0.0</td>\n",
       "      <td>1442.13</td>\n",
       "      <td>1440.00</td>\n",
       "      <td>0.0</td>\n",
       "      <td>41.794517</td>\n",
       "      <td>-87.639286</td>\n",
       "      <td>City non-suit</td>\n",
       "    </tr>\n",
       "    <tr>\n",
       "      <th>...</th>\n",
       "      <td>...</td>\n",
       "      <td>...</td>\n",
       "      <td>...</td>\n",
       "      <td>...</td>\n",
       "      <td>...</td>\n",
       "      <td>...</td>\n",
       "      <td>...</td>\n",
       "      <td>...</td>\n",
       "      <td>...</td>\n",
       "      <td>...</td>\n",
       "      <td>...</td>\n",
       "      <td>...</td>\n",
       "      <td>...</td>\n",
       "      <td>...</td>\n",
       "      <td>...</td>\n",
       "      <td>...</td>\n",
       "      <td>...</td>\n",
       "      <td>...</td>\n",
       "      <td>...</td>\n",
       "      <td>...</td>\n",
       "    </tr>\n",
       "    <tr>\n",
       "      <th>4897</th>\n",
       "      <td>15CP006384</td>\n",
       "      <td>P004593378|P004593379|P004593380|P004593381|P0...</td>\n",
       "      <td>2014-11-15T00:00:00.000</td>\n",
       "      <td>POLICE</td>\n",
       "      <td>2015-02-06T09:00:00.000</td>\n",
       "      <td>4155 W 78</td>\n",
       "      <td>13-12-125  Duty to secure and maintain vacant ...</td>\n",
       "      <td>BANK OF AMERICA,</td>\n",
       "      <td>Default - Liable by prove-up</td>\n",
       "      <td>4300</td>\n",
       "      <td>0</td>\n",
       "      <td>151.37</td>\n",
       "      <td>0.0</td>\n",
       "      <td>0.0</td>\n",
       "      <td>4491.37</td>\n",
       "      <td>4490.75</td>\n",
       "      <td>0.0</td>\n",
       "      <td>41.751811</td>\n",
       "      <td>-87.724843</td>\n",
       "      <td>Default</td>\n",
       "    </tr>\n",
       "    <tr>\n",
       "      <th>4937</th>\n",
       "      <td>12CP063387</td>\n",
       "      <td>P003349139|P003349140|P003349141|P003349142|P0...</td>\n",
       "      <td>2012-08-29T00:00:00.000</td>\n",
       "      <td>POLICE</td>\n",
       "      <td>2012-10-05T09:00:00.000</td>\n",
       "      <td>4004 S MAPLEWOOD</td>\n",
       "      <td>13-12-125  Duty to secure and maintain vacant ...</td>\n",
       "      <td>BANK OF AMERICA,</td>\n",
       "      <td>City non-suit</td>\n",
       "      <td>0</td>\n",
       "      <td>0</td>\n",
       "      <td>0.00</td>\n",
       "      <td>0.0</td>\n",
       "      <td>0.0</td>\n",
       "      <td>0.00</td>\n",
       "      <td>0.00</td>\n",
       "      <td>0.0</td>\n",
       "      <td>41.820881</td>\n",
       "      <td>-87.688613</td>\n",
       "      <td>City non-suit</td>\n",
       "    </tr>\n",
       "    <tr>\n",
       "      <th>4944</th>\n",
       "      <td>15CP158679</td>\n",
       "      <td>P004916840|P004916841|P004916842|P004916843|P0...</td>\n",
       "      <td>2015-12-09T00:00:00.000</td>\n",
       "      <td>POLICE</td>\n",
       "      <td>2016-02-05T09:00:00.000</td>\n",
       "      <td>5752 S SANGAMON</td>\n",
       "      <td>13-12-125  Duty to secure and maintain vacant ...</td>\n",
       "      <td>BANK OF AMERICA,</td>\n",
       "      <td>City non-suit</td>\n",
       "      <td>0</td>\n",
       "      <td>0</td>\n",
       "      <td>0.00</td>\n",
       "      <td>0.0</td>\n",
       "      <td>0.0</td>\n",
       "      <td>0.00</td>\n",
       "      <td>0.00</td>\n",
       "      <td>0.0</td>\n",
       "      <td>41.789052</td>\n",
       "      <td>-87.648815</td>\n",
       "      <td>City non-suit</td>\n",
       "    </tr>\n",
       "    <tr>\n",
       "      <th>4958</th>\n",
       "      <td>12CP002489</td>\n",
       "      <td>P003141012|P003141013|P003141014|P003141015|P0...</td>\n",
       "      <td>2011-12-26T00:00:00.000</td>\n",
       "      <td>POLICE</td>\n",
       "      <td>2012-02-03T09:00:00.000</td>\n",
       "      <td>5022 S CARPENTER</td>\n",
       "      <td>13-12-125  Duty to secure and maintain vacant ...</td>\n",
       "      <td>BANK OF AMERICA,</td>\n",
       "      <td>City non-suit</td>\n",
       "      <td>0</td>\n",
       "      <td>0</td>\n",
       "      <td>0.00</td>\n",
       "      <td>0.0</td>\n",
       "      <td>0.0</td>\n",
       "      <td>0.00</td>\n",
       "      <td>0.00</td>\n",
       "      <td>0.0</td>\n",
       "      <td>41.802606</td>\n",
       "      <td>-87.651590</td>\n",
       "      <td>City non-suit</td>\n",
       "    </tr>\n",
       "    <tr>\n",
       "      <th>4973</th>\n",
       "      <td>13CP075669</td>\n",
       "      <td>P004319978|P004319988|P004319989|P004319990|P0...</td>\n",
       "      <td>2013-08-26T00:00:00.000</td>\n",
       "      <td>POLICE</td>\n",
       "      <td>2013-10-04T09:00:00.000</td>\n",
       "      <td>2445 W 69TH</td>\n",
       "      <td>13-12-125  Duty to secure and maintain vacant ...</td>\n",
       "      <td>BANK OF AMERICA,</td>\n",
       "      <td>City non-suit</td>\n",
       "      <td>0</td>\n",
       "      <td>0</td>\n",
       "      <td>0.00</td>\n",
       "      <td>0.0</td>\n",
       "      <td>0.0</td>\n",
       "      <td>0.00</td>\n",
       "      <td>0.00</td>\n",
       "      <td>0.0</td>\n",
       "      <td>41.768197</td>\n",
       "      <td>-87.685129</td>\n",
       "      <td>City non-suit</td>\n",
       "    </tr>\n",
       "  </tbody>\n",
       "</table>\n",
       "<p>503 rows × 20 columns</p>\n",
       "</div>"
      ],
      "text/plain": [
       "     docket_number                                   violation_number  \\\n",
       "19      12CP058877                              P003180744|P003180745   \n",
       "25      13CP009146                              P003766968|P003766969   \n",
       "50      14CP125031                                         P003839420   \n",
       "58      15CP080441                              P004806688|P004806689   \n",
       "60      15CP114089                              P003124666|P003124667   \n",
       "...            ...                                                ...   \n",
       "4897    15CP006384  P004593378|P004593379|P004593380|P004593381|P0...   \n",
       "4937    12CP063387  P003349139|P003349140|P003349141|P003349142|P0...   \n",
       "4944    15CP158679  P004916840|P004916841|P004916842|P004916843|P0...   \n",
       "4958    12CP002489  P003141012|P003141013|P003141014|P003141015|P0...   \n",
       "4973    13CP075669  P004319978|P004319988|P004319989|P004319990|P0...   \n",
       "\n",
       "                  issued_date issuing_department        last_hearing_date  \\\n",
       "19    2012-07-30T00:00:00.000             POLICE  2012-09-07T13:00:00.000   \n",
       "25    2013-02-01T00:00:00.000             POLICE  2013-03-01T13:00:00.000   \n",
       "50    2014-09-13T00:00:00.000             POLICE  2014-11-05T09:00:00.000   \n",
       "58    2015-05-08T00:00:00.000             POLICE  2015-08-07T11:00:00.000   \n",
       "60    2015-08-11T00:00:00.000             POLICE  2015-10-02T09:00:00.000   \n",
       "...                       ...                ...                      ...   \n",
       "4897  2014-11-15T00:00:00.000             POLICE  2015-02-06T09:00:00.000   \n",
       "4937  2012-08-29T00:00:00.000             POLICE  2012-10-05T09:00:00.000   \n",
       "4944  2015-12-09T00:00:00.000             POLICE  2016-02-05T09:00:00.000   \n",
       "4958  2011-12-26T00:00:00.000             POLICE  2012-02-03T09:00:00.000   \n",
       "4973  2013-08-26T00:00:00.000             POLICE  2013-10-04T09:00:00.000   \n",
       "\n",
       "       property_address                                     violation_type  \\\n",
       "19         3719 W OHIO   13-12-125  Duty to secure and maintain vacant ...   \n",
       "25        4216 W ADAMS   13-12-125  Duty to secure and maintain vacant ...   \n",
       "50         201 S STATE           7-24-099(a)     Cannabis - up to 15 grams   \n",
       "58          31 W 110TH   13-12-125  Duty to secure and maintain vacant ...   \n",
       "60      540 W GARFIELD   13-12-125  Duty to secure and maintain vacant ...   \n",
       "...                 ...                                                ...   \n",
       "4897         4155 W 78   13-12-125  Duty to secure and maintain vacant ...   \n",
       "4937  4004 S MAPLEWOOD   13-12-125  Duty to secure and maintain vacant ...   \n",
       "4944   5752 S SANGAMON   13-12-125  Duty to secure and maintain vacant ...   \n",
       "4958  5022 S CARPENTER   13-12-125  Duty to secure and maintain vacant ...   \n",
       "4973       2445 W 69TH   13-12-125  Duty to secure and maintain vacant ...   \n",
       "\n",
       "     entity_or_person_s_       disposition_description  total_fines  \\\n",
       "19     BANK OF AMERICA,                  City non-suit            0   \n",
       "25     BANK OF AMERICA,                  City non-suit            0   \n",
       "50     BANK OF AMERICA,          Vendor scanning error            0   \n",
       "58     BANK OF AMERICA,                  City non-suit            0   \n",
       "60     BANK OF AMERICA,                  City non-suit         1400   \n",
       "...                  ...                           ...          ...   \n",
       "4897   BANK OF AMERICA,   Default - Liable by prove-up         4300   \n",
       "4937   BANK OF AMERICA,                  City non-suit            0   \n",
       "4944   BANK OF AMERICA,                  City non-suit            0   \n",
       "4958   BANK OF AMERICA,                  City non-suit            0   \n",
       "4973   BANK OF AMERICA,                  City non-suit            0   \n",
       "\n",
       "      total_administrative_costs  interest_amount  \\\n",
       "19                             0             0.00   \n",
       "25                             0             0.00   \n",
       "50                             0             0.00   \n",
       "58                             0             0.00   \n",
       "60                             0             2.13   \n",
       "...                          ...              ...   \n",
       "4897                           0           151.37   \n",
       "4937                           0             0.00   \n",
       "4944                           0             0.00   \n",
       "4958                           0             0.00   \n",
       "4973                           0             0.00   \n",
       "\n",
       "      collection_costs_or_attorney_fees  court_cost  \\\n",
       "19                                  0.0         0.0   \n",
       "25                                  0.0         0.0   \n",
       "50                                  0.0         0.0   \n",
       "58                                  0.0         0.0   \n",
       "60                                  0.0         0.0   \n",
       "...                                 ...         ...   \n",
       "4897                                0.0         0.0   \n",
       "4937                                0.0         0.0   \n",
       "4944                                0.0         0.0   \n",
       "4958                                0.0         0.0   \n",
       "4973                                0.0         0.0   \n",
       "\n",
       "      original_total_amount_due  total_paid  current_amount_due   latitude  \\\n",
       "19                         0.00        0.00                 0.0  41.891642   \n",
       "25                         0.00        0.00                 0.0  41.878019   \n",
       "50                         0.00        0.00                 0.0  41.879431   \n",
       "58                         0.00        0.00                 0.0        NaN   \n",
       "60                      1442.13     1440.00                 0.0  41.794517   \n",
       "...                         ...         ...                 ...        ...   \n",
       "4897                    4491.37     4490.75                 0.0  41.751811   \n",
       "4937                       0.00        0.00                 0.0  41.820881   \n",
       "4944                       0.00        0.00                 0.0  41.789052   \n",
       "4958                       0.00        0.00                 0.0  41.802606   \n",
       "4973                       0.00        0.00                 0.0  41.768197   \n",
       "\n",
       "      longitude     disposition_header  \n",
       "19   -87.719529          City non-suit  \n",
       "25   -87.731215          City non-suit  \n",
       "50   -87.627563  Vendor scanning error  \n",
       "58          NaN          City non-suit  \n",
       "60   -87.639286          City non-suit  \n",
       "...         ...                    ...  \n",
       "4897 -87.724843                Default  \n",
       "4937 -87.688613          City non-suit  \n",
       "4944 -87.648815          City non-suit  \n",
       "4958 -87.651590          City non-suit  \n",
       "4973 -87.685129          City non-suit  \n",
       "\n",
       "[503 rows x 20 columns]"
      ]
     },
     "execution_count": 71,
     "metadata": {},
     "output_type": "execute_result"
    }
   ],
   "source": [
    "chi_vacant_abandoned[\n",
    "    chi_vacant_abandoned.entity_or_person_s_ == 'BANK OF AMERICA, '\n",
    "]"
   ]
  },
  {
   "cell_type": "code",
   "execution_count": null,
   "id": "835bb024",
   "metadata": {},
   "outputs": [],
   "source": [
    "chi_vacant_abandoned"
   ]
  }
 ],
 "metadata": {
  "kernelspec": {
   "display_name": "Python 3 (ipykernel)",
   "language": "python",
   "name": "python3"
  },
  "language_info": {
   "codemirror_mode": {
    "name": "ipython",
    "version": 3
   },
   "file_extension": ".py",
   "mimetype": "text/x-python",
   "name": "python",
   "nbconvert_exporter": "python",
   "pygments_lexer": "ipython3",
   "version": "3.9.12"
  }
 },
 "nbformat": 4,
 "nbformat_minor": 5
}
